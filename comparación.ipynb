{
 "cells": [
  {
   "cell_type": "code",
   "execution_count": null,
   "id": "a19f2642-9cf0-4c02-a08a-84569303e794",
   "metadata": {},
   "outputs": [],
   "source": [
    "#Código para comparación de modelos "
   ]
  },
  {
   "cell_type": "code",
   "execution_count": null,
   "id": "dba79642-c222-4be0-b7cd-1657c72b7bdb",
   "metadata": {},
   "outputs": [],
   "source": [
    "import matplotlib.pyplot as plt\n",
    "\n",
    "accuracy_rf = 0.82  #Actual precisión de la distribución \n",
    "accuracy_lr = 0.1 #Colocar acá la precisión de regresión \n",
    "accuracy_nb = 0.1 #Aquí iría el valor de la precisión de la gráfica de Naive Bayes  \n",
    "\n",
    "models = ['Random Forest', 'Logistic Regression', 'Naive Bayes']\n",
    "accuracies = [accuracy_rf, accuracy_lr, accuracy_nb]\n",
    "\n",
    "plt.bar(models, accuracies, color=['green', 'blue', 'orange'])\n",
    "plt.title(\"Comparación de Precisión entre Modelos\")\n",
    "plt.ylabel(\"Precisión\")\n",
    "plt.xlabel(\"Modelos\")\n",
    "plt.ylim(0, 1)\n",
    "plt.show()\n",
    "\n",
    "#Forma sencilla de identificar el mejor modelo, basado en el mas accurate \n",
    "mejor_modelo = models[accuracies.index(max(accuracies))]\n",
    "print(f\"El mejor modelo según la precisión es: {mejor_modelo}\")\n"
   ]
  }
 ],
 "metadata": {
  "kernelspec": {
   "display_name": "Python 3 (ipykernel)",
   "language": "python",
   "name": "python3"
  },
  "language_info": {
   "codemirror_mode": {
    "name": "ipython",
    "version": 3
   },
   "file_extension": ".py",
   "mimetype": "text/x-python",
   "name": "python",
   "nbconvert_exporter": "python",
   "pygments_lexer": "ipython3",
   "version": "3.12.4"
  }
 },
 "nbformat": 4,
 "nbformat_minor": 5
}
