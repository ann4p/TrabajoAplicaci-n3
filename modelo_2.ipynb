{
 "cells": [
  {
   "cell_type": "code",
   "execution_count": null,
   "id": "ebac1e2a-c92a-4443-a675-fd8c226d9271",
   "metadata": {},
   "outputs": [],
   "source": [
    "#Regresión y Naive "
   ]
  },
  {
   "cell_type": "code",
   "execution_count": null,
   "id": "f8f7f8d7-a6c4-48ec-8d00-7bd9cab6dd5c",
   "metadata": {},
   "outputs": [],
   "source": [
    "import pandas as pd\n",
    "import numpy as np\n",
    "import seaborn as sns\n",
    "import matplotlib.pyplot as plt\n",
    "from sklearn.linear_model import LogisticRegression\n",
    "from sklearn.naive_bayes import GaussianNB\n",
    "from sklearn.model_selection import train_test_split\n",
    "from sklearn.preprocessing import LabelEncoder\n",
    "from sklearn.metrics import accuracy_score, confusion_matrix, classification_report\n",
    "\n",
    "def load_data():\n",
    "    from ucimlrepo import fetch_ucirepo\n",
    "    dataset = fetch_ucirepo(id=350)\n",
    "    df = pd.concat([dataset.data.features, dataset.data.targets], axis=1)\n",
    "    return df\n",
    "\n",
    "df = load_data()\n",
    "\n",
    "df.drop_duplicates(inplace=True)\n",
    "\n",
    "for col in df.select_dtypes(include=['object']).columns:\n",
    "    df[col] = LabelEncoder().fit_transform(df[col])\n",
    "\n",
    "X = df.iloc[:, :-1]\n",
    "y = df.iloc[:, -1]\n",
    "\n",
    "X_train, X_test, y_train, y_test = train_test_split(X, y, test_size=0.3, random_state=42)\n",
    "\n",
    "#Regresión\n",
    "model_lr = LogisticRegression()\n",
    "model_lr.fit(X_train, y_train)\n",
    "\n",
    "y_pred_lr = model_lr.predict(X_test)\n",
    "accuracy_lr = accuracy_score(y_test, y_pred_lr)\n",
    "print(f\"Precisión de Logistic Regression: {accuracy_lr:.2f}\")\n",
    "\n",
    "conf_matrix_lr = confusion_matrix(y_test, y_pred_lr)\n",
    "print(\"Matriz de Confusión (Logistic Regression):\")\n",
    "print(conf_matrix_lr)\n",
    "\n",
    "print(\"Reporte de Clasificación (Logistic Regression):\")\n",
    "print(classification_report(y_test, y_pred_lr))\n",
    "\n",
    "#Naive Bayes\n",
    "model_nb = GaussianNB()\n",
    "model_nb.fit(X_train, y_train)\n",
    "\n",
    "y_pred_nb = model_nb.predict(X_test)\n",
    "accuracy_nb = accuracy_score(y_test, y_pred_nb)\n",
    "print(f\"Precisión de Naive Bayes: {accuracy_nb:.2f}\")\n",
    "\n",
    "conf_matrix_nb = confusion_matrix(y_test, y_pred_nb)\n",
    "print(\"Matriz de Confusión (Naive Bayes):\")\n",
    "print(conf_matrix_nb)\n",
    "\n",
    "print(\"Reporte de Clasificación (Naive Bayes):\")\n",
    "print(classification_report(y_test, y_pred_nb))\n",
    "\n",
    "plt.bar([\"Logistic Regression\", \"Naive Bayes\"], [accuracy_lr, accuracy_nb], color=['blue', 'orange'])\n",
    "plt.title(\"Comparación de Precisión\")\n",
    "plt.ylabel(\"Precisión\")\n",
    "plt.show()"
   ]
  }
 ],
 "metadata": {
  "kernelspec": {
   "display_name": "Python 3 (ipykernel)",
   "language": "python",
   "name": "python3"
  },
  "language_info": {
   "codemirror_mode": {
    "name": "ipython",
    "version": 3
   },
   "file_extension": ".py",
   "mimetype": "text/x-python",
   "name": "python",
   "nbconvert_exporter": "python",
   "pygments_lexer": "ipython3",
   "version": "3.12.4"
  }
 },
 "nbformat": 4,
 "nbformat_minor": 5
}
